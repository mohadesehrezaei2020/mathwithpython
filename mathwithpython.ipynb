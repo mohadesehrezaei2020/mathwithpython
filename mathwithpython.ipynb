{
  "nbformat": 4,
  "nbformat_minor": 0,
  "metadata": {
    "colab": {
      "name": "MathWithPython.ipynb",
      "provenance": [],
      "authorship_tag": "ABX9TyNW54udx+Tk2y2paWrBv/XO",
      "include_colab_link": true
    },
    "kernelspec": {
      "name": "python3",
      "display_name": "Python 3"
    }
  },
  "cells": [
    {
      "cell_type": "markdown",
      "metadata": {
        "id": "view-in-github",
        "colab_type": "text"
      },
      "source": [
        "<a href=\"https://colab.research.google.com/gist/mohadesehrezaei2020/068dedb633ae8caaed26500d750eaf9c/mathwithpython.ipynb\" target=\"_parent\"><img src=\"https://colab.research.google.com/assets/colab-badge.svg\" alt=\"Open In Colab\"/></a>"
      ]
    },
    {
      "cell_type": "code",
      "metadata": {
        "id": "9qlW93o90IHf",
        "colab_type": "code",
        "colab": {
          "base_uri": "https://localhost:8080/",
          "height": 34
        },
        "outputId": "0d6d57fe-4408-4917-a30d-992a85e00b8b"
      },
      "source": [
        "number1 = 5 \n",
        "number2 = 3 \n",
        "print (\"The product of 2 numbers is\", number1*number2)"
      ],
      "execution_count": null,
      "outputs": [
        {
          "output_type": "stream",
          "text": [
            "The product of 2 numbers is 15\n"
          ],
          "name": "stdout"
        }
      ]
    },
    {
      "cell_type": "code",
      "metadata": {
        "id": "02Y-gk0ixjS9",
        "colab_type": "code",
        "colab": {
          "base_uri": "https://localhost:8080/",
          "height": 34
        },
        "outputId": "bedbe537-9979-42c8-e530-464226aae139"
      },
      "source": [
        "num1 = 20\n",
        "num2 = 3\n",
        "print (\"The product of two number is\" , num1*num2)\n"
      ],
      "execution_count": null,
      "outputs": [
        {
          "output_type": "stream",
          "text": [
            "The product of two number is 60\n"
          ],
          "name": "stdout"
        }
      ]
    },
    {
      "cell_type": "code",
      "metadata": {
        "id": "5GBu9zl-1Icd",
        "colab_type": "code",
        "colab": {
          "base_uri": "https://localhost:8080/",
          "height": 34
        },
        "outputId": "77c9d43f-419c-4900-85ac-f89cc073943d"
      },
      "source": [
        "number1 = 148.374\n",
        "number2 = 199.365\n",
        "print (\"The product of two numbers is\" , number1*number2)"
      ],
      "execution_count": null,
      "outputs": [
        {
          "output_type": "stream",
          "text": [
            "The product of two numbers is 29580.58251\n"
          ],
          "name": "stdout"
        }
      ]
    },
    {
      "cell_type": "code",
      "metadata": {
        "id": "wEjIRy6a2QII",
        "colab_type": "code",
        "colab": {
          "base_uri": "https://localhost:8080/",
          "height": 231
        },
        "outputId": "bedf45ea-2ba0-40b1-8800-f5198a9ffa2c"
      },
      "source": [
        "number1 = input(\"Enter a number\")\n",
        "number2 = input (\"Enter anther number\")\n",
        "print (\"The product of two numbers is\" , number1*number2)"
      ],
      "execution_count": null,
      "outputs": [
        {
          "output_type": "stream",
          "text": [
            "Enter a number3\n",
            "Enter anther number9\n"
          ],
          "name": "stdout"
        },
        {
          "output_type": "error",
          "ename": "TypeError",
          "evalue": "ignored",
          "traceback": [
            "\u001b[0;31m---------------------------------------------------------------------------\u001b[0m",
            "\u001b[0;31mTypeError\u001b[0m                                 Traceback (most recent call last)",
            "\u001b[0;32m<ipython-input-3-e1654d7ace5a>\u001b[0m in \u001b[0;36m<module>\u001b[0;34m()\u001b[0m\n\u001b[1;32m      1\u001b[0m \u001b[0mnumber1\u001b[0m \u001b[0;34m=\u001b[0m \u001b[0minput\u001b[0m\u001b[0;34m(\u001b[0m\u001b[0;34m\"Enter a number\"\u001b[0m\u001b[0;34m)\u001b[0m\u001b[0;34m\u001b[0m\u001b[0;34m\u001b[0m\u001b[0m\n\u001b[1;32m      2\u001b[0m \u001b[0mnumber2\u001b[0m \u001b[0;34m=\u001b[0m \u001b[0minput\u001b[0m \u001b[0;34m(\u001b[0m\u001b[0;34m\"Enter anther number\"\u001b[0m\u001b[0;34m)\u001b[0m\u001b[0;34m\u001b[0m\u001b[0;34m\u001b[0m\u001b[0m\n\u001b[0;32m----> 3\u001b[0;31m \u001b[0mprint\u001b[0m \u001b[0;34m(\u001b[0m\u001b[0;34m\"The product of two numbers is\"\u001b[0m \u001b[0;34m,\u001b[0m \u001b[0mnumber1\u001b[0m\u001b[0;34m*\u001b[0m\u001b[0mnumber2\u001b[0m\u001b[0;34m)\u001b[0m\u001b[0;34m\u001b[0m\u001b[0;34m\u001b[0m\u001b[0m\n\u001b[0m",
            "\u001b[0;31mTypeError\u001b[0m: can't multiply sequence by non-int of type 'str'"
          ]
        }
      ]
    },
    {
      "cell_type": "code",
      "metadata": {
        "id": "5j6RQ_rE3gdk",
        "colab_type": "code",
        "colab": {
          "base_uri": "https://localhost:8080/",
          "height": 68
        },
        "outputId": "82ddd3c1-7416-48a1-fa0b-74854739ee13"
      },
      "source": [
        "number1 = input (\"Enter a number\")\n",
        "number2 =input (\"Enter another number\")\n",
        "print (\"The product of two numbers is\" , int (number1)* int(number2))"
      ],
      "execution_count": null,
      "outputs": [
        {
          "output_type": "stream",
          "text": [
            "Enter a number3\n",
            "Enter another number9\n",
            "The product of two numbers is 27\n"
          ],
          "name": "stdout"
        }
      ]
    },
    {
      "cell_type": "code",
      "metadata": {
        "id": "_6ZsiuHe5eyR",
        "colab_type": "code",
        "colab": {
          "base_uri": "https://localhost:8080/",
          "height": 119
        },
        "outputId": "96e99421-9434-4a10-bf7c-d713c25002c0"
      },
      "source": [
        "print (\"Hello\")\n",
        "print (\"I will help you in some math\")\n",
        "number1= input(\"Enter a number \")\n",
        "number2 = input(\"enter another number \")\n",
        "print (\"The sum of two number is\" , int (number1)+int(number2))\n",
        "print (\"Have a good day\")"
      ],
      "execution_count": null,
      "outputs": [
        {
          "output_type": "stream",
          "text": [
            "Hello\n",
            "I will help you in some math\n",
            "Enter a number 7\n",
            "enter another number 8\n",
            "The sum of two number is 15\n",
            "Have a good day\n"
          ],
          "name": "stdout"
        }
      ]
    },
    {
      "cell_type": "code",
      "metadata": {
        "id": "UrGhEFKozOqh",
        "colab_type": "code",
        "colab": {
          "base_uri": "https://localhost:8080/",
          "height": 102
        },
        "outputId": "f72b8a24-9172-469c-bf81-14dbd4c76c3e"
      },
      "source": [
        " print (\"Hellow dear have good day\")\n",
        "number1 = input (\" Enter a number\")\n",
        "number2= input (\"Enter another number\")\n",
        " print (\"The sum of two number is\" , number1 + number2)\n",
        " print (\"have a good day\")"
      ],
      "execution_count": null,
      "outputs": [
        {
          "output_type": "stream",
          "text": [
            "Hellow dear have good day\n",
            " Enter a number20\n",
            "Enter another number48\n",
            "The sum of two number is 2048\n",
            "have a good day\n"
          ],
          "name": "stdout"
        }
      ]
    }
  ]
}